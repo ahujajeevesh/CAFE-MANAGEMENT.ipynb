{
 "cells": [
  {
   "cell_type": "code",
   "execution_count": 1,
   "id": "ffc2c273-d2ef-4e6c-9da2-a5df3af8698d",
   "metadata": {},
   "outputs": [
    {
     "name": "stdout",
     "output_type": "stream",
     "text": [
      "{'PIZZA': 40, 'BURGER': 50, 'SALAD': 40, 'SHWARMA': 100, 'COFFEE': 120, 'KULFI': 30}\n"
     ]
    }
   ],
   "source": [
    "menu={\n",
    "    'PIZZA':40,\n",
    "    'BURGER':50,\n",
    "    'SALAD':40,\n",
    "    'SHWARMA':100,\n",
    "    'COFFEE':120,\n",
    "    'KULFI':30\n",
    "}\n",
    "print(menu)"
   ]
  },
  {
   "cell_type": "code",
   "execution_count": 3,
   "id": "41b5c6b4-92f0-462f-9fe1-3b01af4d9ac3",
   "metadata": {},
   "outputs": [
    {
     "name": "stdout",
     "output_type": "stream",
     "text": [
      "WELCOME TO AHUJA CAFE \n",
      " PIZZA:RS40\n",
      " PASTA:RS30\n",
      " BURGER:RS50\n",
      " SALAD:RS40\n",
      " SHWARMA:RS100\n",
      " COFFEE:RS120\n",
      " KULFI:RS30\n",
      "\n"
     ]
    }
   ],
   "source": [
    "print(\"WELCOME TO AHUJA CAFE \")\n",
    "print(\" PIZZA:RS40\\n PASTA:RS30\\n BURGER:RS50\\n SALAD:RS40\\n SHWARMA:RS100\\n COFFEE:RS120\\n KULFI:RS30\\n\")"
   ]
  },
  {
   "cell_type": "code",
   "execution_count": null,
   "id": "641f6810-ab39-4f23-b8bb-ff859cc9e23f",
   "metadata": {},
   "outputs": [
    {
     "name": "stdin",
     "output_type": "stream",
     "text": [
      "ENTER ITEM YOU WANT TO ORDER SIR = SALAD\n"
     ]
    },
    {
     "name": "stdout",
     "output_type": "stream",
     "text": [
      "YOUR ITEM SALADHAS BEEN ADDED TO ORDER\n"
     ]
    },
    {
     "name": "stdin",
     "output_type": "stream",
     "text": [
      "DO U WANT TO ADD ORDER MORE? (YES/NO) YES\n"
     ]
    }
   ],
   "source": [
    "order_total=0\n",
    "item_1=input(\"ENTER ITEM YOU WANT TO ORDER SIR =\")\n",
    "if item_1 in menu:\n",
    "    order_total+= menu[item_1]\n",
    "    print(f\"YOUR ITEM {item_1} HAS BEEN ADDED TO ORDER\")\n",
    "else:\n",
    "    print(f\"YOUR ITEM{item_1} IS NOT AVAILABLE!\")\n",
    "another_order=input(\"DO U WANT TO ADD ORDER MORE? (YES/NO)\")\n",
    "if another_order ==\"YES\":\n",
    "    item_2=input(\"ENTER NAME OF 2ND ITEM =\")\n",
    "    if item_2 in menu:\n",
    "        order_total+=menu[item_2]\n",
    "        print(f\"NEXT item {item_2}has been added to order\")\n",
    "    else:\n",
    "        print(f\"{item_2} is not available!\")\n",
    "print(f\"total bill is {order_total}\")"
   ]
  },
  {
   "cell_type": "code",
   "execution_count": null,
   "id": "1718eab0-6b7c-41a6-a99c-b83ce5a267af",
   "metadata": {},
   "outputs": [],
   "source": []
  }
 ],
 "metadata": {
  "kernelspec": {
   "display_name": "Python 3 (ipykernel)",
   "language": "python",
   "name": "python3"
  },
  "language_info": {
   "codemirror_mode": {
    "name": "ipython",
    "version": 3
   },
   "file_extension": ".py",
   "mimetype": "text/x-python",
   "name": "python",
   "nbconvert_exporter": "python",
   "pygments_lexer": "ipython3",
   "version": "3.13.0"
  }
 },
 "nbformat": 4,
 "nbformat_minor": 5
}
